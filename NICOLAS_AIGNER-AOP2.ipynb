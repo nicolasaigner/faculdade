{
  "nbformat": 4,
  "nbformat_minor": 0,
  "metadata": {
    "colab": {
      "provenance": [],
      "include_colab_link": true
    },
    "kernelspec": {
      "name": "python3",
      "display_name": "Python 3"
    },
    "language_info": {
      "name": "python"
    }
  },
  "cells": [
    {
      "cell_type": "markdown",
      "metadata": {
        "id": "view-in-github",
        "colab_type": "text"
      },
      "source": [
        "<a href=\"https://colab.research.google.com/github/nicolasaigner/faculdade/blob/main/NICOLAS_AIGNER-AOP2.ipynb\" target=\"_parent\"><img src=\"https://colab.research.google.com/assets/colab-badge.svg\" alt=\"Open In Colab\"/></a>"
      ]
    },
    {
      "cell_type": "markdown",
      "source": [
        "<html>\n",
        "  <body>\n",
        "        <center>\n",
        "          <img src=\"https://uvv.br/wp-content/themes/uvvBr/templates/assets//img/logouvv.svg\" alt=\"Logo UVV\" style = width=\"100px\"; height=\"100px\">\n",
        "          <p><b>Introdução à Programação de Computadores - Python</b></p>\n",
        "          <p>Prof. MsC. Wagner de A. Perin</p>\n",
        "          <p><b>Tutor: </b> Edgar Salardani Senhorello</p>\n",
        "          <b>AOP2 - Atividade On-Line Pontuada</b>\n",
        "        </center>\n",
        "  </body>\n",
        "</html>"
      ],
      "metadata": {
        "id": "DQK3cj6S3PCI"
      }
    },
    {
      "cell_type": "code",
      "source": [],
      "metadata": {
        "id": "WF9QgvKjjHAr"
      },
      "execution_count": null,
      "outputs": []
    },
    {
      "cell_type": "markdown",
      "source": [
        "Nome do Aluno: Nícolas Aigner"
      ],
      "metadata": {
        "id": "WPSPpcLu3bu3"
      }
    },
    {
      "cell_type": "code",
      "source": [
        "def validar_nota(nota, min_val, max_val):\n",
        "    while True:\n",
        "        try:\n",
        "            nota = float(input(nota))\n",
        "            if min_val <= nota <= max_val:\n",
        "                return nota\n",
        "            else:\n",
        "                print(f\"Nota inválida! Digite um valor entre {min_val} e {max_val}.\")\n",
        "        except ValueError:\n",
        "            print(\"Entrada inválida! Digite um número.\")\n",
        "\n",
        "def main():\n",
        "    total_alunos = 5  # Mude o total de alunos para 100\n",
        "    alunos = []\n",
        "\n",
        "    for i in range(total_alunos):\n",
        "        print(f\"\\nAluno {i + 1} de {total_alunos}:\")\n",
        "        aop1 = validar_nota(\"Nota AOP1 (Menor Nota: 0 | Maior Nota: 1): \", 0, 1)\n",
        "        aop2 = validar_nota(\"Nota AOP2 (Menor Nota: 0 | Maior Nota: 2): \", 0, 2)\n",
        "        aop3 = validar_nota(\"Nota AOP3 (Menor Nota: 0 | Maior Nota: 1): \", 0, 1)\n",
        "        prova_regular = validar_nota(\"Nota Prova Regular (Menor Nota: 0 | Maior Nota: 6): \", 0, 6)\n",
        "\n",
        "        soma_modulo = aop1 + aop2 + aop3 + prova_regular\n",
        "        prova_recuperacao = 0\n",
        "\n",
        "        if soma_modulo < 7:\n",
        "            prova_recuperacao = validar_nota(\"Nota Prova de Recuperação (Menor Nota: 0 | Maior Nota: 10): \", 0, 10)\n",
        "\n",
        "        media_modulo = (soma_modulo + prova_recuperacao) / 2\n",
        "\n",
        "        if soma_modulo >= 7:\n",
        "            status = \"Aprovado\"\n",
        "        elif media_modulo >= 5:\n",
        "            status = \"Prova de recuperação\"\n",
        "        else:\n",
        "            status = \"Reprovado\"\n",
        "\n",
        "        alunos.append({\"Soma do Módulo\": soma_modulo, \"Média do Módulo\": media_modulo, \"Resultado\": status})\n",
        "\n",
        "    # Calculando porcentagens\n",
        "    total_aprovados = sum(1 for aluno in alunos if aluno[\"Status\"] == \"Aprovado\")\n",
        "    total_reprovados = sum(1 for aluno in alunos if aluno[\"Status\"] == \"Reprovado\")\n",
        "    total_recuperacao = sum(1 for aluno in alunos if aluno[\"Status\"] == \"Prova de recuperação\")\n",
        "\n",
        "    porcentagem_aprovados = (total_aprovados / total_alunos) * 100\n",
        "    porcentagem_reprovados = (total_reprovados / total_alunos) * 100\n",
        "\n",
        "    print(\"\\nResultados:\")\n",
        "    for i, aluno in enumerate(alunos, 1):\n",
        "        print(f\"Aluno {i}: Soma do Módulo={aluno['SM']}, Média do Módulo={aluno['MM']}, Resultado={aluno['Status']}\")\n",
        "\n",
        "    print(f\"\\nPorcentagem de Aprovados: {porcentagem_aprovados}%\")\n",
        "    print(f\"Porcentagem de Reprovados: {porcentagem_reprovados}%\")\n",
        "\n",
        "if __name__ == \"__main__\":\n",
        "    main()\n"
      ],
      "metadata": {
        "id": "2xMPsumnewhP",
        "outputId": "ec1ab0dc-014b-4716-a315-28639d8f6a30",
        "colab": {
          "base_uri": "https://localhost:8080/",
          "height": 356
        }
      },
      "execution_count": 19,
      "outputs": [
        {
          "output_type": "stream",
          "name": "stdout",
          "text": [
            "\n",
            "Aluno 1 de 5:\n"
          ]
        },
        {
          "output_type": "error",
          "ename": "KeyboardInterrupt",
          "evalue": "Interrupted by user",
          "traceback": [
            "\u001b[0;31m---------------------------------------------------------------------------\u001b[0m",
            "\u001b[0;31mKeyboardInterrupt\u001b[0m                         Traceback (most recent call last)",
            "\u001b[0;32m<ipython-input-19-413656745230>\u001b[0m in \u001b[0;36m<cell line: 55>\u001b[0;34m()\u001b[0m\n\u001b[1;32m     54\u001b[0m \u001b[0;34m\u001b[0m\u001b[0m\n\u001b[1;32m     55\u001b[0m \u001b[0;32mif\u001b[0m \u001b[0m__name__\u001b[0m \u001b[0;34m==\u001b[0m \u001b[0;34m\"__main__\"\u001b[0m\u001b[0;34m:\u001b[0m\u001b[0;34m\u001b[0m\u001b[0;34m\u001b[0m\u001b[0m\n\u001b[0;32m---> 56\u001b[0;31m     \u001b[0mmain\u001b[0m\u001b[0;34m(\u001b[0m\u001b[0;34m)\u001b[0m\u001b[0;34m\u001b[0m\u001b[0;34m\u001b[0m\u001b[0m\n\u001b[0m",
            "\u001b[0;32m<ipython-input-19-413656745230>\u001b[0m in \u001b[0;36mmain\u001b[0;34m()\u001b[0m\n\u001b[1;32m     16\u001b[0m     \u001b[0;32mfor\u001b[0m \u001b[0mi\u001b[0m \u001b[0;32min\u001b[0m \u001b[0mrange\u001b[0m\u001b[0;34m(\u001b[0m\u001b[0mtotal_alunos\u001b[0m\u001b[0;34m)\u001b[0m\u001b[0;34m:\u001b[0m\u001b[0;34m\u001b[0m\u001b[0;34m\u001b[0m\u001b[0m\n\u001b[1;32m     17\u001b[0m         \u001b[0mprint\u001b[0m\u001b[0;34m(\u001b[0m\u001b[0;34mf\"\\nAluno {i + 1} de {total_alunos}:\"\u001b[0m\u001b[0;34m)\u001b[0m\u001b[0;34m\u001b[0m\u001b[0;34m\u001b[0m\u001b[0m\n\u001b[0;32m---> 18\u001b[0;31m         \u001b[0maop1\u001b[0m \u001b[0;34m=\u001b[0m \u001b[0mvalidar_nota\u001b[0m\u001b[0;34m(\u001b[0m\u001b[0;34m\"Nota AOP1 (Menor Nota: 0 | Maior Nota: 1): \"\u001b[0m\u001b[0;34m,\u001b[0m \u001b[0;36m0\u001b[0m\u001b[0;34m,\u001b[0m \u001b[0;36m1\u001b[0m\u001b[0;34m)\u001b[0m\u001b[0;34m\u001b[0m\u001b[0;34m\u001b[0m\u001b[0m\n\u001b[0m\u001b[1;32m     19\u001b[0m         \u001b[0maop2\u001b[0m \u001b[0;34m=\u001b[0m \u001b[0mvalidar_nota\u001b[0m\u001b[0;34m(\u001b[0m\u001b[0;34m\"Nota AOP2 (Menor Nota: 0 | Maior Nota: 2): \"\u001b[0m\u001b[0;34m,\u001b[0m \u001b[0;36m0\u001b[0m\u001b[0;34m,\u001b[0m \u001b[0;36m2\u001b[0m\u001b[0;34m)\u001b[0m\u001b[0;34m\u001b[0m\u001b[0;34m\u001b[0m\u001b[0m\n\u001b[1;32m     20\u001b[0m         \u001b[0maop3\u001b[0m \u001b[0;34m=\u001b[0m \u001b[0mvalidar_nota\u001b[0m\u001b[0;34m(\u001b[0m\u001b[0;34m\"Nota AOP3 (Menor Nota: 0 | Maior Nota: 1): \"\u001b[0m\u001b[0;34m,\u001b[0m \u001b[0;36m0\u001b[0m\u001b[0;34m,\u001b[0m \u001b[0;36m1\u001b[0m\u001b[0;34m)\u001b[0m\u001b[0;34m\u001b[0m\u001b[0;34m\u001b[0m\u001b[0m\n",
            "\u001b[0;32m<ipython-input-19-413656745230>\u001b[0m in \u001b[0;36mvalidar_nota\u001b[0;34m(nota, min_val, max_val)\u001b[0m\n\u001b[1;32m      2\u001b[0m     \u001b[0;32mwhile\u001b[0m \u001b[0;32mTrue\u001b[0m\u001b[0;34m:\u001b[0m\u001b[0;34m\u001b[0m\u001b[0;34m\u001b[0m\u001b[0m\n\u001b[1;32m      3\u001b[0m         \u001b[0;32mtry\u001b[0m\u001b[0;34m:\u001b[0m\u001b[0;34m\u001b[0m\u001b[0;34m\u001b[0m\u001b[0m\n\u001b[0;32m----> 4\u001b[0;31m             \u001b[0mnota\u001b[0m \u001b[0;34m=\u001b[0m \u001b[0mfloat\u001b[0m\u001b[0;34m(\u001b[0m\u001b[0minput\u001b[0m\u001b[0;34m(\u001b[0m\u001b[0mnota\u001b[0m\u001b[0;34m)\u001b[0m\u001b[0;34m)\u001b[0m\u001b[0;34m\u001b[0m\u001b[0;34m\u001b[0m\u001b[0m\n\u001b[0m\u001b[1;32m      5\u001b[0m             \u001b[0;32mif\u001b[0m \u001b[0mmin_val\u001b[0m \u001b[0;34m<=\u001b[0m \u001b[0mnota\u001b[0m \u001b[0;34m<=\u001b[0m \u001b[0mmax_val\u001b[0m\u001b[0;34m:\u001b[0m\u001b[0;34m\u001b[0m\u001b[0;34m\u001b[0m\u001b[0m\n\u001b[1;32m      6\u001b[0m                 \u001b[0;32mreturn\u001b[0m \u001b[0mnota\u001b[0m\u001b[0;34m\u001b[0m\u001b[0;34m\u001b[0m\u001b[0m\n",
            "\u001b[0;32m/usr/local/lib/python3.10/dist-packages/ipykernel/kernelbase.py\u001b[0m in \u001b[0;36mraw_input\u001b[0;34m(self, prompt)\u001b[0m\n\u001b[1;32m    849\u001b[0m                 \u001b[0;34m\"raw_input was called, but this frontend does not support input requests.\"\u001b[0m\u001b[0;34m\u001b[0m\u001b[0;34m\u001b[0m\u001b[0m\n\u001b[1;32m    850\u001b[0m             )\n\u001b[0;32m--> 851\u001b[0;31m         return self._input_request(str(prompt),\n\u001b[0m\u001b[1;32m    852\u001b[0m             \u001b[0mself\u001b[0m\u001b[0;34m.\u001b[0m\u001b[0m_parent_ident\u001b[0m\u001b[0;34m,\u001b[0m\u001b[0;34m\u001b[0m\u001b[0;34m\u001b[0m\u001b[0m\n\u001b[1;32m    853\u001b[0m             \u001b[0mself\u001b[0m\u001b[0;34m.\u001b[0m\u001b[0m_parent_header\u001b[0m\u001b[0;34m,\u001b[0m\u001b[0;34m\u001b[0m\u001b[0;34m\u001b[0m\u001b[0m\n",
            "\u001b[0;32m/usr/local/lib/python3.10/dist-packages/ipykernel/kernelbase.py\u001b[0m in \u001b[0;36m_input_request\u001b[0;34m(self, prompt, ident, parent, password)\u001b[0m\n\u001b[1;32m    893\u001b[0m             \u001b[0;32mexcept\u001b[0m \u001b[0mKeyboardInterrupt\u001b[0m\u001b[0;34m:\u001b[0m\u001b[0;34m\u001b[0m\u001b[0;34m\u001b[0m\u001b[0m\n\u001b[1;32m    894\u001b[0m                 \u001b[0;31m# re-raise KeyboardInterrupt, to truncate traceback\u001b[0m\u001b[0;34m\u001b[0m\u001b[0;34m\u001b[0m\u001b[0m\n\u001b[0;32m--> 895\u001b[0;31m                 \u001b[0;32mraise\u001b[0m \u001b[0mKeyboardInterrupt\u001b[0m\u001b[0;34m(\u001b[0m\u001b[0;34m\"Interrupted by user\"\u001b[0m\u001b[0;34m)\u001b[0m \u001b[0;32mfrom\u001b[0m \u001b[0;32mNone\u001b[0m\u001b[0;34m\u001b[0m\u001b[0;34m\u001b[0m\u001b[0m\n\u001b[0m\u001b[1;32m    896\u001b[0m             \u001b[0;32mexcept\u001b[0m \u001b[0mException\u001b[0m \u001b[0;32mas\u001b[0m \u001b[0me\u001b[0m\u001b[0;34m:\u001b[0m\u001b[0;34m\u001b[0m\u001b[0;34m\u001b[0m\u001b[0m\n\u001b[1;32m    897\u001b[0m                 \u001b[0mself\u001b[0m\u001b[0;34m.\u001b[0m\u001b[0mlog\u001b[0m\u001b[0;34m.\u001b[0m\u001b[0mwarning\u001b[0m\u001b[0;34m(\u001b[0m\u001b[0;34m\"Invalid Message:\"\u001b[0m\u001b[0;34m,\u001b[0m \u001b[0mexc_info\u001b[0m\u001b[0;34m=\u001b[0m\u001b[0;32mTrue\u001b[0m\u001b[0;34m)\u001b[0m\u001b[0;34m\u001b[0m\u001b[0;34m\u001b[0m\u001b[0m\n",
            "\u001b[0;31mKeyboardInterrupt\u001b[0m: Interrupted by user"
          ]
        }
      ]
    }
  ]
}